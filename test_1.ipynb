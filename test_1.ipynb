{
  "nbformat": 4,
  "nbformat_minor": 0,
  "metadata": {
    "colab": {
      "provenance": [],
      "authorship_tag": "ABX9TyPk+3fOm5Gm624mY5EQJVyf",
      "include_colab_link": true
    },
    "kernelspec": {
      "name": "python3",
      "display_name": "Python 3"
    },
    "language_info": {
      "name": "python"
    }
  },
  "cells": [
    {
      "cell_type": "markdown",
      "metadata": {
        "id": "view-in-github",
        "colab_type": "text"
      },
      "source": [
        "<a href=\"https://colab.research.google.com/github/IgorDehtearuk/TI222-Python/blob/tests/test_1.ipynb\" target=\"_parent\"><img src=\"https://colab.research.google.com/assets/colab-badge.svg\" alt=\"Open In Colab\"/></a>"
      ]
    },
    {
      "cell_type": "code",
      "execution_count": 29,
      "metadata": {
        "id": "YmpZmx9fZ7JG",
        "colab": {
          "base_uri": "https://localhost:8080/"
        },
        "outputId": "6f976a50-38d8-4cc3-e52f-fa4127af47f2"
      },
      "outputs": [
        {
          "output_type": "stream",
          "name": "stdout",
          "text": [
            "[42, 21, 100, 5, 1, 7, 3, 404, 0, 0, 0, 0, 0, 0]\n",
            "[]\n",
            "[0, 0, 0, 0, 0]\n",
            "[1, 2, 3, 4, 5]\n",
            "[1, 2, 3, 4, 5, 0]\n",
            "[1, 2, 3, 4, 5, 0]\n",
            "[1, 2, 3, 4, 0, 0, 0]\n"
          ]
        }
      ],
      "source": [
        "def remove_zeroes(nums: list[int]) -> int:\n",
        "  zero_index = 0\n",
        "\n",
        "  for i in range(len(nums)):\n",
        "    if nums[i] != 0:\n",
        "      nums[zero_index], nums[i] = nums[i], nums[zero_index]\n",
        "      zero_index += 1\n",
        "\n",
        "  return zero_index\n",
        "\n",
        "nums = [0,42,21,0,100,0,5,1,0,7,3,0,404,0]\n",
        "zero_index = remove_zeroes(nums)\n",
        "print(nums)\n",
        "assert zero_index == 8\n",
        "assert nums[:zero_index] == [42,21,100,5,1,7,3,404]\n",
        "\n",
        "nums2 = []\n",
        "new_len2 = remove_zeroes(nums2)\n",
        "assert new_len2 == 0\n",
        "assert nums2 == []\n",
        "print(nums2)\n",
        "\n",
        "nums3 = [0, 0, 0, 0, 0]\n",
        "new_len3 = remove_zeroes(nums3)\n",
        "assert new_len3 == 0\n",
        "assert nums3 == [0, 0, 0, 0, 0]\n",
        "print(nums3)\n",
        "nums4 = [1, 2, 3, 4, 5]\n",
        "new_len4 = remove_zeroes(nums4)\n",
        "assert new_len4 == 5\n",
        "assert nums4 == [1, 2, 3, 4, 5]\n",
        "print(nums4)\n",
        "\n",
        "nums5 = [1, 2, 3, 4, 5, 0]\n",
        "new_len5 = remove_zeroes(nums5)\n",
        "assert new_len5 == 5\n",
        "assert nums5 == [1, 2, 3, 4, 5, 0]\n",
        "print(nums5)\n",
        "nums6 = [0, 1, 2, 3, 4, 5]\n",
        "new_len6 = remove_zeroes(nums6)\n",
        "assert new_len6 == 5\n",
        "assert nums6 == [1, 2, 3, 4, 5, 0]\n",
        "print(nums6)\n",
        "nums7 = [1, 0, 2, 0, 3, 0, 4]\n",
        "new_len7 = remove_zeroes(nums7)\n",
        "assert new_len7 == 4\n",
        "assert nums7 == [1, 2, 3, 4, 0, 0, 0]\n",
        "print(nums7)"
      ]
    },
    {
      "cell_type": "code",
      "source": [
        "def urlify(text: list[str]) -> int:\n",
        "    slow = fast = 0\n",
        "    count_space = 0\n",
        "\n",
        "    while fast < len(text):\n",
        "        if text[fast] == '':\n",
        "            break\n",
        "        if text[fast] == ' ':\n",
        "            count_space += 1\n",
        "        fast += 1\n",
        "\n",
        "    del text[:fast - 1:-1]\n",
        "    new_size = fast - 1 + (2 * count_space)\n",
        "    text += [''] * (2 * count_space)\n",
        "\n",
        "    slow = len(text) - 1\n",
        "    fast -= 1\n",
        "\n",
        "    while fast >= 0:\n",
        "        if text[fast] == ' ':\n",
        "            text[slow] = '0'\n",
        "            text[slow - 1] = '2'\n",
        "            text[slow - 2] = '%'\n",
        "            slow -= 3\n",
        "        else:\n",
        "            text[slow] = text[fast]\n",
        "            slow -= 1\n",
        "\n",
        "        fast -= 1\n",
        "\n",
        "    return new_size + 1\n",
        "\n",
        "\n",
        "text = list('my url') + [''] * 21\n",
        "new_len = urlify(text)\n",
        "\n",
        "assert new_len == 8\n",
        "assert text[:new_len] == list('my%20url')\n",
        "\n",
        "text = list('')\n",
        "new_len = urlify(text)\n",
        "\n",
        "assert new_len == 0\n",
        "assert text[:new_len] == list('')\n",
        "\n",
        "text = list(' my url ')\n",
        "new_len = urlify(text)\n",
        "\n",
        "assert new_len == 14\n",
        "assert text[:new_len] == list('%20my%20url%20')\n",
        "\n",
        "text = list(' my   url ')\n",
        "new_len = urlify(text)\n",
        "\n",
        "assert new_len == 20\n",
        "assert text[:new_len] == list('%20my%20%20%20url%20')\n",
        "\n",
        "text = list(' my url with multiple spaces and words ')\n",
        "new_len = urlify(text)\n",
        "\n",
        "assert new_len == 55\n",
        "assert text[:new_len] == list('%20my%20url%20with%20multiple%20spaces%20and%20words%20')\n",
        "\n",
        "text = list(' ')\n",
        "new_len = urlify(text)\n",
        "\n",
        "assert new_len == 3\n",
        "assert text[:new_len] == list('%20')\n",
        "\n",
        "text = list('myurl')\n",
        "new_len = urlify(text)\n",
        "\n",
        "assert new_len == 5\n",
        "assert text[:new_len] == list('myurl')\n",
        "\n",
        "text = list('  ')\n",
        "new_len = urlify(text)\n",
        "\n",
        "assert new_len == 6\n",
        "assert text[:new_len] == list('%20%20')"
      ],
      "metadata": {
        "id": "9sH8WSRo9V4z"
      },
      "execution_count": 27,
      "outputs": []
    }
  ]
}