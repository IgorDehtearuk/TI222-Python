{
  "nbformat": 4,
  "nbformat_minor": 0,
  "metadata": {
    "colab": {
      "provenance": [],
      "authorship_tag": "ABX9TyO9PLYtaotd65wSOQb4+uX5",
      "include_colab_link": true
    },
    "kernelspec": {
      "name": "python3",
      "display_name": "Python 3"
    },
    "language_info": {
      "name": "python"
    }
  },
  "cells": [
    {
      "cell_type": "markdown",
      "metadata": {
        "id": "view-in-github",
        "colab_type": "text"
      },
      "source": [
        "<a href=\"https://colab.research.google.com/github/IgorDehtearuk/TI222-Python/blob/tests/test_1.ipynb\" target=\"_parent\"><img src=\"https://colab.research.google.com/assets/colab-badge.svg\" alt=\"Open In Colab\"/></a>"
      ]
    },
    {
      "cell_type": "code",
      "execution_count": 26,
      "metadata": {
        "id": "YmpZmx9fZ7JG",
        "outputId": "eae4897e-79d0-4451-d04f-2d857446038a",
        "colab": {
          "base_uri": "https://localhost:8080/"
        }
      },
      "outputs": [
        {
          "output_type": "stream",
          "name": "stdout",
          "text": [
            "[42, 21, 100, 5, 1, 7, 3, 404, 0, 0, 0, 0, 0, 0]\n"
          ]
        }
      ],
      "source": [
        "def remove_zeroes(nums: list[int]) -> int:\n",
        "  zero_index = 0\n",
        "\n",
        "  for i in range(len(nums)):\n",
        "    if nums[i] != 0:\n",
        "      nums[zero_index], nums[i] = nums[i], nums[zero_index]\n",
        "      zero_index += 1\n",
        "\n",
        "  return zero_index\n",
        "\n",
        "nums = [0,42,21,0,100,0,5,1,0,7,3,0,404,0]\n",
        "zero_index = remove_zeroes(nums)\n",
        "print(nums)\n",
        "assert zero_index == 8\n",
        "assert nums[:zero_index] == [42,21,100,5,1,7,3,404]"
      ]
    }
  ]
}